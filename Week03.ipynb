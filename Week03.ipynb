{
  "nbformat": 4,
  "nbformat_minor": 0,
  "metadata": {
    "colab": {
      "name": "Week03.ipynb",
      "provenance": [],
      "authorship_tag": "ABX9TyOk/almXs1uDBZmUgpn94eK",
      "include_colab_link": true
    },
    "kernelspec": {
      "name": "python3",
      "display_name": "Python 3"
    },
    "language_info": {
      "name": "python"
    }
  },
  "cells": [
    {
      "cell_type": "markdown",
      "metadata": {
        "id": "view-in-github",
        "colab_type": "text"
      },
      "source": [
        "<a href=\"https://colab.research.google.com/github/wulanwidiasari/PVCK_Genap_2022/blob/main/Week03.ipynb\" target=\"_parent\"><img src=\"https://colab.research.google.com/assets/colab-badge.svg\" alt=\"Open In Colab\"/></a>"
      ]
    },
    {
      "cell_type": "code",
      "execution_count": null,
      "metadata": {
        "id": "yidGVYdjwgWd"
      },
      "outputs": [],
      "source": [
        "from google.colab import drive\n",
        "\n",
        "# Acessing My Google Drive\n",
        "drive.mount('/content/drive')"
      ]
    },
    {
      "cell_type": "code",
      "source": [
        ""
      ],
      "metadata": {
        "id": "Wri5mSSl487S"
      },
      "execution_count": null,
      "outputs": []
    }
  ]
}
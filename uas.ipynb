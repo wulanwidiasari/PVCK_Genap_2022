{
  "nbformat": 4,
  "nbformat_minor": 0,
  "metadata": {
    "colab": {
      "name": "uas.ipynb",
      "provenance": [],
      "authorship_tag": "ABX9TyNXF16TESWtEK4WsGyXWMwt",
      "include_colab_link": true
    },
    "kernelspec": {
      "name": "python3",
      "display_name": "Python 3"
    },
    "language_info": {
      "name": "python"
    }
  },
  "cells": [
    {
      "cell_type": "markdown",
      "metadata": {
        "id": "view-in-github",
        "colab_type": "text"
      },
      "source": [
        "<a href=\"https://colab.research.google.com/github/wulanwidiasari/PVCK_Genap_2022/blob/main/uas.ipynb\" target=\"_parent\"><img src=\"https://colab.research.google.com/assets/colab-badge.svg\" alt=\"Open In Colab\"/></a>"
      ]
    },
    {
      "cell_type": "markdown",
      "source": [
        "# **Car Detection**\n",
        "\n",
        "Nama Anggota Kelompok :\n",
        "1.   Redhia Farari\n",
        "2.   Wulan Widiasari\n",
        "\n"
      ],
      "metadata": {
        "id": "hF4jC4gmbuNm"
      }
    },
    {
      "cell_type": "code",
      "execution_count": 1,
      "metadata": {
        "id": "R0mpx2HnK-Zn",
        "outputId": "4a9256ce-a714-43cf-bea8-af00a901b820",
        "colab": {
          "base_uri": "https://localhost:8080/"
        }
      },
      "outputs": [
        {
          "output_type": "stream",
          "name": "stdout",
          "text": [
            "Mounted at /content/drive\n"
          ]
        }
      ],
      "source": [
        "# akses drive\n",
        "from google.colab import drive\n",
        "\n",
        "drive.mount('/content/drive')"
      ]
    },
    {
      "cell_type": "code",
      "source": [
        "# import library yang dibutuhkan\n",
        "import cv2 as cv\n",
        "import numpy as np\n",
        "from matplotlib import pyplot as plt"
      ],
      "metadata": {
        "id": "b3vGwsvfdh_l"
      },
      "execution_count": 2,
      "outputs": []
    }
  ]
}